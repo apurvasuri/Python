{
 "cells": [
  {
   "cell_type": "code",
   "execution_count": 1,
   "id": "3ff49459",
   "metadata": {},
   "outputs": [],
   "source": [
    "                                                    #Python"
   ]
  },
  {
   "cell_type": "code",
   "execution_count": 2,
   "id": "9ce1daee",
   "metadata": {},
   "outputs": [
    {
     "name": "stdout",
     "output_type": "stream",
     "text": [
      "29 72\n"
     ]
    }
   ],
   "source": [
    "a = 29\n",
    "b = 72\n",
    "print(a,b);"
   ]
  },
  {
   "cell_type": "code",
   "execution_count": 3,
   "id": "634e815c",
   "metadata": {},
   "outputs": [
    {
     "ename": "NameError",
     "evalue": "name 'a' is not defined",
     "output_type": "error",
     "traceback": [
      "\u001b[1;31m---------------------------------------------------------------------------\u001b[0m",
      "\u001b[1;31mNameError\u001b[0m                                 Traceback (most recent call last)",
      "Input \u001b[1;32mIn [3]\u001b[0m, in \u001b[0;36m<cell line: 2>\u001b[1;34m()\u001b[0m\n\u001b[0;32m      1\u001b[0m \u001b[38;5;28;01mdel\u001b[39;00m a\n\u001b[1;32m----> 2\u001b[0m \u001b[38;5;28mprint\u001b[39m(\u001b[43ma\u001b[49m,b)\n",
      "\u001b[1;31mNameError\u001b[0m: name 'a' is not defined"
     ]
    }
   ],
   "source": [
    "del a             #deletes the refrence to the variable\n",
    "print(a,b)"
   ]
  },
  {
   "cell_type": "code",
   "execution_count": 8,
   "id": "b051d510",
   "metadata": {},
   "outputs": [
    {
     "name": "stdout",
     "output_type": "stream",
     "text": [
      "25 27.9 250000000.0 (2+6j)\n"
     ]
    }
   ],
   "source": [
    "#int\n",
    "a1 = 25\n",
    "#float\n",
    "a2 = 27.9\n",
    "a3 = 2.5e8\n",
    "#long\n",
    "#a4 = 51924361L\n",
    "#a5 = 0xDEFABCECBDAECBFBAEL\n",
    "#complex\n",
    "a6 = 2 + 6j     # a+bj. a and b are floats and J (or j) represents the square root of -1( a is real and b is imaginary part)\n",
    "print(a1,a2,a3,a6)"
   ]
  },
  {
   "cell_type": "code",
   "execution_count": 17,
   "id": "ad6175a7",
   "metadata": {},
   "outputs": [
    {
     "data": {
      "text/plain": [
       "87.1"
      ]
     },
     "execution_count": 17,
     "metadata": {},
     "output_type": "execute_result"
    }
   ],
   "source": [
    "x = -87.1\n",
    "abs(x)"
   ]
  },
  {
   "cell_type": "code",
   "execution_count": 20,
   "id": "0db6320b",
   "metadata": {},
   "outputs": [
    {
     "name": "stdout",
     "output_type": "stream",
     "text": [
      "-87\n",
      "6\n"
     ]
    }
   ],
   "source": [
    "import math as m\n",
    "y = 5.6\n",
    "print(m.ceil(x))       #The ceiling of x: the smallest integer not less than x\n",
    "print(m.ceil(y))"
   ]
  },
  {
   "cell_type": "code",
   "execution_count": 24,
   "id": "465bfb41",
   "metadata": {},
   "outputs": [
    {
     "data": {
      "text/plain": [
       "270.42640742615254"
      ]
     },
     "execution_count": 24,
     "metadata": {},
     "output_type": "execute_result"
    }
   ],
   "source": [
    "m.exp(y)               #The exponential of x: ex"
   ]
  },
  {
   "cell_type": "code",
   "execution_count": 30,
   "id": "26b637d8",
   "metadata": {},
   "outputs": [
    {
     "name": "stdout",
     "output_type": "stream",
     "text": [
      "87.1 \n",
      " 5.6\n"
     ]
    }
   ],
   "source": [
    "print(m.fabs(x),\"\\n\",m.fabs(y))"
   ]
  },
  {
   "cell_type": "code",
   "execution_count": 31,
   "id": "713351bc",
   "metadata": {},
   "outputs": [
    {
     "name": "stdout",
     "output_type": "stream",
     "text": [
      "-88\n",
      "5\n"
     ]
    }
   ],
   "source": [
    "print(m.floor(x))      #The floor of x: the largest integer not greater than x\n",
    "print(m.floor(y))"
   ]
  },
  {
   "cell_type": "code",
   "execution_count": 37,
   "id": "a9a58d57",
   "metadata": {},
   "outputs": [
    {
     "name": "stdout",
     "output_type": "stream",
     "text": [
      "1.7227665977411035\n",
      "0.7481880270062004\n"
     ]
    }
   ],
   "source": [
    "print(m.log(y))        #The natural logarithm of x, for x> 0     \n",
    "print(m.log10(y))      #The base-10 logarithm of x for x> 0"
   ]
  },
  {
   "cell_type": "code",
   "execution_count": 39,
   "id": "939c96b3",
   "metadata": {},
   "outputs": [
    {
     "data": {
      "text/plain": [
       "8.00965949"
      ]
     },
     "execution_count": 39,
     "metadata": {},
     "output_type": "execute_result"
    }
   ],
   "source": [
    "z = 8.00965948532321145698\n",
    "round(z,8)             #x rounded to n digits from the decimal point"
   ]
  },
  {
   "cell_type": "code",
   "execution_count": 42,
   "id": "82dd3e59",
   "metadata": {},
   "outputs": [
    {
     "data": {
      "text/plain": [
       "5.0"
      ]
     },
     "execution_count": 42,
     "metadata": {},
     "output_type": "execute_result"
    }
   ],
   "source": [
    "m.sqrt(a1)                   #x rounded to n digits from the decimal point"
   ]
  },
  {
   "cell_type": "code",
   "execution_count": null,
   "id": "af27c086",
   "metadata": {},
   "outputs": [],
   "source": [
    "choice(seq) #A random item from a list, tuple, or string.\n",
    "randrange(start,stop,step) #A randomly selected element from range(start, stop, step)\n",
    "random() #A random float r, such that 0 is less than or equal to r and r is less than 1\n",
    "seed(x) #Sets the integer starting value used in generating random numbers. Call this function before calling any other random module function. Returns None.\n",
    "shuffel(lst) #Randomizes the items of a list in place. Returns None.\n",
    "uniform(x,y) #A random float r, such that x is less than or equal to r and r is less than y"
   ]
  },
  {
   "cell_type": "code",
   "execution_count": null,
   "id": "09079948",
   "metadata": {},
   "outputs": [],
   "source": [
    "acos(x) #Return the arc cosine of x, in radians.\n",
    "asin(x) #Return the arc sine of x, in radians.\n",
    "atan(x) #Return the arc tangent of x, in radians.\n",
    "atan2(x,y) #Return atan(y / x), in radians.\n",
    "cos(x) #Return the cosine of x radians.\n",
    "hypot(x,y) #Return the Euclidean norm, sqrt(x*x + y*y).\n",
    "sin(x) #Return the sine of x radians.\n",
    "tan(x) #Return the tangent of x radians.\n",
    "degrees(x) #Converts angle x from radians to degrees.\n",
    "radians(x) #Converts angle x from degrees to radians."
   ]
  }
 ],
 "metadata": {
  "kernelspec": {
   "display_name": "Python 3 (ipykernel)",
   "language": "python",
   "name": "python3"
  },
  "language_info": {
   "codemirror_mode": {
    "name": "ipython",
    "version": 3
   },
   "file_extension": ".py",
   "mimetype": "text/x-python",
   "name": "python",
   "nbconvert_exporter": "python",
   "pygments_lexer": "ipython3",
   "version": "3.9.12"
  }
 },
 "nbformat": 4,
 "nbformat_minor": 5
}
